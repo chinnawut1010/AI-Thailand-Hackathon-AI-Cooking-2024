{
 "cells": [
  {
   "cell_type": "code",
   "execution_count": null,
   "metadata": {},
   "outputs": [],
   "source": [
    "import pandas as pd\n",
    "import string"
   ]
  },
  {
   "cell_type": "code",
   "execution_count": null,
   "metadata": {},
   "outputs": [],
   "source": [
    "import pandas as pd\n",
    "import string\n",
    "\n",
    "# โหลดไฟล์ CSV\n",
    "file_path = 'C:/Users/chinnawut/Documents/AI_hackaton/test.csv'\n",
    "df = pd.read_csv(file_path)\n",
    "\n",
    "# เปลี่ยนชื่อคอลัมน์ให้ถูกต้อง\n",
    "df.rename(columns={' text': 'text'}, inplace=True)\n",
    "\n",
    "# ฟังก์ชันถอดรหัส Caesar cipher\n",
    "def decrypt_caesar_cipher(text, shift):\n",
    "    decrypted_text = []\n",
    "    for char in text:\n",
    "        if char.isalpha():\n",
    "            shift_base = 65 if char.isupper() else 97\n",
    "            decrypted_text.append(chr((ord(char) - shift_base - shift) % 26 + shift_base))\n",
    "        else:\n",
    "            decrypted_text.append(char)\n",
    "    return ''.join(decrypted_text)\n",
    "\n",
    "# เซ็ตของคำภาษาอังกฤษที่พบได้บ่อย\n",
    "common_english_words = set([\"the\", \"be\", \"to\", \"of\", \"and\", \"a\", \"in\", \"that\", \"have\", \"I\"])\n",
    "\n",
    "# ฟังก์ชันตรวจสอบข้อความภาษาอังกฤษ\n",
    "def is_english(text):\n",
    "    words = text.lower().split()\n",
    "    return sum(word in common_english_words for word in words)\n",
    "\n",
    "# ฟังก์ชันหาค่า shift ที่ดีที่สุดสำหรับประโยค\n",
    "def determine_shift_for_sentence(sentence):\n",
    "    max_english_words = 0\n",
    "    best_shift = 0\n",
    "    for shift in range(1, 26):\n",
    "        decrypted_sentence = decrypt_caesar_cipher(sentence, shift)\n",
    "        english_word_count = is_english(decrypted_sentence)\n",
    "        if english_word_count > max_english_words:\n",
    "            max_english_words = english_word_count\n",
    "            best_shift = shift\n",
    "    return best_shift\n",
    "\n",
    "# นำฟังก์ชันไปใช้กับแต่ละแถวใน DataFrame\n",
    "df['shift'] = df['text'].apply(determine_shift_for_sentence)\n",
    "\n",
    "# สร้าง DataFrame ใหม่สำหรับการบันทึกผลลัพธ์\n",
    "result_df = df[['id', 'shift']].copy()\n",
    "result_df.rename(columns={'shift': 'n'}, inplace=True)\n",
    "\n",
    "# บันทึกผลลัพธ์เป็นไฟล์ CSV\n",
    "result_df.to_csv('submission2.csv', index=False)"
   ]
  }
 ],
 "metadata": {
  "kernelspec": {
   "display_name": "GPU_TENSORFLOW_1",
   "language": "python",
   "name": "python3"
  },
  "language_info": {
   "name": "python",
   "version": "3.10.14"
  }
 },
 "nbformat": 4,
 "nbformat_minor": 2
}
